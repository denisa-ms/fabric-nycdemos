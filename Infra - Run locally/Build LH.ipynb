{
 "cells": [
  {
   "cell_type": "code",
   "execution_count": null,
   "id": "c5561055",
   "metadata": {},
   "outputs": [],
   "source": [
    "!pip install python-dotenv\n",
    "!pip install azure.identity\n",
    "!pip install semantic-link-sempy\n",
    "!pip install azure-storage-blob\n",
    "!pip install azure-storage-file-datalake"
   ]
  },
  {
   "cell_type": "code",
   "execution_count": null,
   "id": "612d13cf",
   "metadata": {},
   "outputs": [],
   "source": [
    "import os\n",
    "from dotenv import load_dotenv\n",
    "\n",
    "load_dotenv()\n",
    "APP_REGISTRATION_CLIENT_ID=os.getenv(\"APP_REGISTRATION_CLIENT_ID\")\n",
    "APP_REGISTRATION_TENANT_ID= os.getenv(\"APP_REGISTRATION_TENANT_ID\")\n",
    "APP_REGISTRATION_SECRET_VALUE = os.getenv(\"APP_REGISTRATION_SECRET_VALUE\")\n",
    "FABRIC_WORKSPACE_ID = os.getenv(\"FABRIC_WORKSPACE_ID\")"
   ]
  },
  {
   "cell_type": "code",
   "execution_count": null,
   "id": "14744022",
   "metadata": {},
   "outputs": [],
   "source": [
    "warehouse_payload = { \n",
    "  \"type\": \"warehouse\", \n",
    "  \"displayName\": \"warehouse\", \n",
    "  \"description\": \"New Lakehouse Service Principal case-insensitive collation\", \n",
    "  \"creationPayload\": { \n",
    "    \"defaultCollation\": \"Latin1_General_100_CI_AS_KS_WS_SC_UTF8\" \n",
    "  } \n",
    "}"
   ]
  },
  {
   "cell_type": "code",
   "execution_count": null,
   "id": "e5d44378",
   "metadata": {},
   "outputs": [],
   "source": [
    "import json, requests, pandas as pd \n",
    "import datetime  \n",
    "from azure.identity import ClientSecretCredential \n",
    " \n",
    "\n",
    "# Generates the access token for the Service Principal \n",
    "api = 'https://analysis.windows.net/powerbi/api/.default' \n",
    "auth = ClientSecretCredential(authority = 'https://login.microsoftonline.com/', \n",
    "               tenant_id = APP_REGISTRATION_TENANT_ID, \n",
    "               client_id = APP_REGISTRATION_CLIENT_ID, \n",
    "               client_secret = APP_REGISTRATION_SECRET_VALUE) \n",
    "access_token = auth.get_token(api)\n",
    "access_token = access_token.token \n",
    "## This is where I store my header with the Access Token, because this is required when authenticating \n",
    "## to the Power BI Admin APIs \n",
    "auth = {'Authorization': f'Bearer {access_token}'} "
   ]
  },
  {
   "cell_type": "code",
   "execution_count": null,
   "id": "d9ea1790",
   "metadata": {},
   "outputs": [],
   "source": [
    "import sempy.fabric as fabric\n",
    "from sempy.fabric.exceptions import FabricHTTPException\n",
    "\n",
    "client=fabric.FabricRestClient()\n",
    "\n",
    "url=f\"v1/workspaces/{FABRIC_WORKSPACE_ID}/items\"\n",
    "\n",
    "def create_fabric_item(payload):\n",
    "    try:\n",
    "        result=client.post(url,headers=auth,json=payload)\n",
    "        display(result)\n",
    "    except requests.exceptions.HTTPError as http_err:\n",
    "        print(f\"HTTP error occurred: {http_err}\")\n",
    "        print(f\"Response content: {result.text}\")  # Print the response body\n",
    "    except requests.exceptions.RequestException as req_err:\n",
    "        print(f\"Request error occurred: {req_err}\")"
   ]
  },
  {
   "cell_type": "code",
   "execution_count": null,
   "id": "f064fe98",
   "metadata": {},
   "outputs": [],
   "source": [
    "create_fabric_item(warehouse_payload)"
   ]
  }
 ],
 "metadata": {
  "kernelspec": {
   "display_name": ".venv",
   "language": "python",
   "name": "python3"
  },
  "language_info": {
   "codemirror_mode": {
    "name": "ipython",
    "version": 3
   },
   "file_extension": ".py",
   "mimetype": "text/x-python",
   "name": "python",
   "nbconvert_exporter": "python",
   "pygments_lexer": "ipython3",
   "version": "3.10.11"
  }
 },
 "nbformat": 4,
 "nbformat_minor": 5
}
