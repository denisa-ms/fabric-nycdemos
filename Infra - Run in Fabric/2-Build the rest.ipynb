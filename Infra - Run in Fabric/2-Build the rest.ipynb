{
 "cells": [
  {
   "cell_type": "code",
   "execution_count": null,
   "id": "c5561055",
   "metadata": {},
   "outputs": [],
   "source": [
    "!pip install semantic-link --q"
   ]
  },
  {
   "cell_type": "code",
   "execution_count": null,
   "id": "3d3cebe4",
   "metadata": {},
   "outputs": [],
   "source": [
    "import sempy.fabric as fabric\n",
    "import base64\n",
    "import time\n",
    "import uuid\n",
    "import json\n",
    "from notebookutils import mssparkutils\n",
    "from sempy.fabric.exceptions import FabricHTTPException\n"
   ]
  },
  {
   "cell_type": "code",
   "execution_count": null,
   "id": "612d13cf",
   "metadata": {},
   "outputs": [],
   "source": [
    "client = fabric.FabricRestClient()\n",
    "workspaceId = fabric.get_workspace_id()\n",
    "url=f\"v1/workspaces/{workspaceId}/items\""
   ]
  },
  {
   "cell_type": "code",
   "execution_count": null,
   "id": "d9ea1790",
   "metadata": {},
   "outputs": [],
   "source": [
    "payload = { \n",
    "  \"type\": \"warehouse\", \n",
    "  \"displayName\": \"warehouse\", \n",
    "  \"description\": \"New Lakehouse Service Principal case-insensitive collation\", \n",
    "  \"creationPayload\": { \n",
    "    \"defaultCollation\": \"Latin1_General_100_CI_AS_KS_WS_SC_UTF8\" \n",
    "  } \n",
    "}\n",
    "\n",
    "response=client.post(url,json=payload)\n",
    "warehouseId=response.json()['id']"
   ]
  },
  {
   "cell_type": "code",
   "execution_count": null,
   "id": "5ac9fb95",
   "metadata": {},
   "outputs": [],
   "source": [
    "# create all Lakehouses\n",
    "payload = {\n",
    "    \"displayName\": \"bronze_lakehouse\", \n",
    "    \"type\": \"Lakehouse\" \n",
    "} \n",
    "response=client.post(url,json=payload)\n",
    "bronzeLakehouseId=response.json()['id']\n",
    "\n",
    "payload = {\n",
    "    \"displayName\": \"silver_lakehouse\", \n",
    "    \"type\": \"Lakehouse\" \n",
    "} \n",
    "response=client.post(url,json=payload)\n",
    "silverLakehouseId=response.json()['id']\n",
    "\n",
    "payload = {\n",
    "    \"displayName\": \"golden_lakehouse\", \n",
    "    \"type\": \"Lakehouse\" \n",
    "} \n",
    "response=client.post(url,json=payload)\n",
    "goldLakehouseId=response.json()['id']"
   ]
  },
  {
   "cell_type": "code",
   "execution_count": null,
   "id": "e9897c65",
   "metadata": {},
   "outputs": [],
   "source": [
    "payload = {\n",
    "    \"displayName\": \"sql_db\", \n",
    "    \"type\": \"SQLDatabase\" \n",
    "} \n",
    "response=client.post(url,json=payload)\n",
    "sqlDbId=response.json()['id']"
   ]
  }
 ],
 "metadata": {
  "kernelspec": {
   "display_name": ".venv",
   "language": "python",
   "name": "python3"
  },
  "language_info": {
   "codemirror_mode": {
    "name": "ipython",
    "version": 3
   },
   "file_extension": ".py",
   "mimetype": "text/x-python",
   "name": "python",
   "nbconvert_exporter": "python",
   "pygments_lexer": "ipython3",
   "version": "3.10.11"
  }
 },
 "nbformat": 4,
 "nbformat_minor": 5
}
